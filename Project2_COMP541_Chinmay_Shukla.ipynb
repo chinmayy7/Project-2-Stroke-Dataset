{
 "cells": [
  {
   "cell_type": "markdown",
   "id": "a8748f04",
   "metadata": {},
   "source": [
    "# DATA MINING (COMP-541) PROJECT - 2\n",
    "## Name : Chinmay Shukla\n",
    "## Student ID : 202727453"
   ]
  },
  {
   "cell_type": "code",
   "execution_count": 1,
   "id": "1ca05b8a",
   "metadata": {},
   "outputs": [],
   "source": [
    "# Importing required libraries for the operations\n",
    "\n",
    "import pandas as pd\n",
    "from sklearn.model_selection import train_test_split\n",
    "from imblearn.over_sampling import SMOTE\n",
    "from sklearn.linear_model import LogisticRegression\n",
    "from sklearn.naive_bayes import GaussianNB\n",
    "from sklearn.neighbors import KNeighborsClassifier\n",
    "from sklearn.svm import SVC\n",
    "from sklearn.metrics import accuracy_score, precision_score, recall_score, f1_score, roc_auc_score, roc_curve\n",
    "\n"
   ]
  },
  {
   "cell_type": "markdown",
   "id": "bdfabfa8",
   "metadata": {},
   "source": [
    "## _STEP 1_"
   ]
  },
  {
   "cell_type": "code",
   "execution_count": 2,
   "id": "07a2b874",
   "metadata": {
    "scrolled": true
   },
   "outputs": [
    {
     "data": {
      "text/html": [
       "<div>\n",
       "<style scoped>\n",
       "    .dataframe tbody tr th:only-of-type {\n",
       "        vertical-align: middle;\n",
       "    }\n",
       "\n",
       "    .dataframe tbody tr th {\n",
       "        vertical-align: top;\n",
       "    }\n",
       "\n",
       "    .dataframe thead th {\n",
       "        text-align: right;\n",
       "    }\n",
       "</style>\n",
       "<table border=\"1\" class=\"dataframe\">\n",
       "  <thead>\n",
       "    <tr style=\"text-align: right;\">\n",
       "      <th></th>\n",
       "      <th>Unnamed: 0</th>\n",
       "      <th>Unnamed: 0.1</th>\n",
       "      <th>Unnamed: 0.1.1</th>\n",
       "      <th>id</th>\n",
       "      <th>gender</th>\n",
       "      <th>age</th>\n",
       "      <th>hypertension</th>\n",
       "      <th>heart_disease</th>\n",
       "      <th>ever_married</th>\n",
       "      <th>work_type</th>\n",
       "      <th>Residence_type</th>\n",
       "      <th>avg_glucose_level</th>\n",
       "      <th>bmi</th>\n",
       "      <th>smoking_status</th>\n",
       "      <th>stroke</th>\n",
       "    </tr>\n",
       "  </thead>\n",
       "  <tbody>\n",
       "    <tr>\n",
       "      <th>0</th>\n",
       "      <td>0</td>\n",
       "      <td>2</td>\n",
       "      <td>2</td>\n",
       "      <td>31112</td>\n",
       "      <td>1</td>\n",
       "      <td>80.0</td>\n",
       "      <td>0</td>\n",
       "      <td>1</td>\n",
       "      <td>1</td>\n",
       "      <td>2</td>\n",
       "      <td>0</td>\n",
       "      <td>105.92</td>\n",
       "      <td>32.500000</td>\n",
       "      <td>2</td>\n",
       "      <td>1</td>\n",
       "    </tr>\n",
       "    <tr>\n",
       "      <th>1</th>\n",
       "      <td>1</td>\n",
       "      <td>6</td>\n",
       "      <td>6</td>\n",
       "      <td>53882</td>\n",
       "      <td>1</td>\n",
       "      <td>74.0</td>\n",
       "      <td>1</td>\n",
       "      <td>1</td>\n",
       "      <td>1</td>\n",
       "      <td>2</td>\n",
       "      <td>0</td>\n",
       "      <td>70.09</td>\n",
       "      <td>27.400000</td>\n",
       "      <td>2</td>\n",
       "      <td>1</td>\n",
       "    </tr>\n",
       "    <tr>\n",
       "      <th>2</th>\n",
       "      <td>2</td>\n",
       "      <td>7</td>\n",
       "      <td>7</td>\n",
       "      <td>10434</td>\n",
       "      <td>0</td>\n",
       "      <td>69.0</td>\n",
       "      <td>0</td>\n",
       "      <td>0</td>\n",
       "      <td>0</td>\n",
       "      <td>2</td>\n",
       "      <td>1</td>\n",
       "      <td>94.39</td>\n",
       "      <td>22.800000</td>\n",
       "      <td>2</td>\n",
       "      <td>1</td>\n",
       "    </tr>\n",
       "    <tr>\n",
       "      <th>3</th>\n",
       "      <td>3</td>\n",
       "      <td>8</td>\n",
       "      <td>8</td>\n",
       "      <td>27419</td>\n",
       "      <td>0</td>\n",
       "      <td>59.0</td>\n",
       "      <td>0</td>\n",
       "      <td>0</td>\n",
       "      <td>1</td>\n",
       "      <td>2</td>\n",
       "      <td>0</td>\n",
       "      <td>76.15</td>\n",
       "      <td>27.720748</td>\n",
       "      <td>0</td>\n",
       "      <td>1</td>\n",
       "    </tr>\n",
       "    <tr>\n",
       "      <th>4</th>\n",
       "      <td>4</td>\n",
       "      <td>9</td>\n",
       "      <td>9</td>\n",
       "      <td>60491</td>\n",
       "      <td>0</td>\n",
       "      <td>78.0</td>\n",
       "      <td>0</td>\n",
       "      <td>0</td>\n",
       "      <td>1</td>\n",
       "      <td>2</td>\n",
       "      <td>1</td>\n",
       "      <td>58.57</td>\n",
       "      <td>24.200000</td>\n",
       "      <td>0</td>\n",
       "      <td>1</td>\n",
       "    </tr>\n",
       "  </tbody>\n",
       "</table>\n",
       "</div>"
      ],
      "text/plain": [
       "   Unnamed: 0  Unnamed: 0.1  Unnamed: 0.1.1     id  gender   age  \\\n",
       "0           0             2               2  31112       1  80.0   \n",
       "1           1             6               6  53882       1  74.0   \n",
       "2           2             7               7  10434       0  69.0   \n",
       "3           3             8               8  27419       0  59.0   \n",
       "4           4             9               9  60491       0  78.0   \n",
       "\n",
       "   hypertension  heart_disease  ever_married  work_type  Residence_type  \\\n",
       "0             0              1             1          2               0   \n",
       "1             1              1             1          2               0   \n",
       "2             0              0             0          2               1   \n",
       "3             0              0             1          2               0   \n",
       "4             0              0             1          2               1   \n",
       "\n",
       "   avg_glucose_level        bmi  smoking_status  stroke  \n",
       "0             105.92  32.500000               2       1  \n",
       "1              70.09  27.400000               2       1  \n",
       "2              94.39  22.800000               2       1  \n",
       "3              76.15  27.720748               0       1  \n",
       "4              58.57  24.200000               0       1  "
      ]
     },
     "execution_count": 2,
     "metadata": {},
     "output_type": "execute_result"
    }
   ],
   "source": [
    "df = pd.read_csv(r\"C:\\Users\\Chinmay\\Desktop\\COMP 541\\cleaned1.csv\")    # reading the updated dataset from Project1\n",
    "df.head()"
   ]
  },
  {
   "cell_type": "code",
   "execution_count": 3,
   "id": "885fe2a1",
   "metadata": {},
   "outputs": [],
   "source": [
    "a = df.iloc[:, :-1]\n",
    "b = df.iloc[:, -1]\n",
    "\n",
    "# testing = 20% ; testing = 80%\n",
    "# splitting the dataset using training and testing\n",
    "\n",
    "a_train, a_test, b_train, b_test = train_test_split(a, b, test_size=0.1, random_state=42) "
   ]
  },
  {
   "cell_type": "markdown",
   "id": "eb379c63",
   "metadata": {},
   "source": [
    "#### Creating a subset of the dataframe"
   ]
  },
  {
   "cell_type": "code",
   "execution_count": 4,
   "id": "972d7c70",
   "metadata": {},
   "outputs": [
    {
     "data": {
      "text/html": [
       "<div>\n",
       "<style scoped>\n",
       "    .dataframe tbody tr th:only-of-type {\n",
       "        vertical-align: middle;\n",
       "    }\n",
       "\n",
       "    .dataframe tbody tr th {\n",
       "        vertical-align: top;\n",
       "    }\n",
       "\n",
       "    .dataframe thead th {\n",
       "        text-align: right;\n",
       "    }\n",
       "</style>\n",
       "<table border=\"1\" class=\"dataframe\">\n",
       "  <thead>\n",
       "    <tr style=\"text-align: right;\">\n",
       "      <th></th>\n",
       "      <th>Unnamed: 0</th>\n",
       "      <th>Unnamed: 0.1</th>\n",
       "      <th>Unnamed: 0.1.1</th>\n",
       "      <th>id</th>\n",
       "      <th>gender</th>\n",
       "      <th>age</th>\n",
       "      <th>hypertension</th>\n",
       "      <th>heart_disease</th>\n",
       "      <th>ever_married</th>\n",
       "      <th>work_type</th>\n",
       "      <th>Residence_type</th>\n",
       "      <th>avg_glucose_level</th>\n",
       "      <th>bmi</th>\n",
       "      <th>smoking_status</th>\n",
       "      <th>stroke</th>\n",
       "    </tr>\n",
       "  </thead>\n",
       "  <tbody>\n",
       "    <tr>\n",
       "      <th>0</th>\n",
       "      <td>0</td>\n",
       "      <td>2</td>\n",
       "      <td>2</td>\n",
       "      <td>31112</td>\n",
       "      <td>1</td>\n",
       "      <td>80.0</td>\n",
       "      <td>0</td>\n",
       "      <td>1</td>\n",
       "      <td>1</td>\n",
       "      <td>2</td>\n",
       "      <td>0</td>\n",
       "      <td>105.92</td>\n",
       "      <td>32.500000</td>\n",
       "      <td>2</td>\n",
       "      <td>1</td>\n",
       "    </tr>\n",
       "    <tr>\n",
       "      <th>1</th>\n",
       "      <td>1</td>\n",
       "      <td>6</td>\n",
       "      <td>6</td>\n",
       "      <td>53882</td>\n",
       "      <td>1</td>\n",
       "      <td>74.0</td>\n",
       "      <td>1</td>\n",
       "      <td>1</td>\n",
       "      <td>1</td>\n",
       "      <td>2</td>\n",
       "      <td>0</td>\n",
       "      <td>70.09</td>\n",
       "      <td>27.400000</td>\n",
       "      <td>2</td>\n",
       "      <td>1</td>\n",
       "    </tr>\n",
       "    <tr>\n",
       "      <th>2</th>\n",
       "      <td>2</td>\n",
       "      <td>7</td>\n",
       "      <td>7</td>\n",
       "      <td>10434</td>\n",
       "      <td>0</td>\n",
       "      <td>69.0</td>\n",
       "      <td>0</td>\n",
       "      <td>0</td>\n",
       "      <td>0</td>\n",
       "      <td>2</td>\n",
       "      <td>1</td>\n",
       "      <td>94.39</td>\n",
       "      <td>22.800000</td>\n",
       "      <td>2</td>\n",
       "      <td>1</td>\n",
       "    </tr>\n",
       "    <tr>\n",
       "      <th>3</th>\n",
       "      <td>3</td>\n",
       "      <td>8</td>\n",
       "      <td>8</td>\n",
       "      <td>27419</td>\n",
       "      <td>0</td>\n",
       "      <td>59.0</td>\n",
       "      <td>0</td>\n",
       "      <td>0</td>\n",
       "      <td>1</td>\n",
       "      <td>2</td>\n",
       "      <td>0</td>\n",
       "      <td>76.15</td>\n",
       "      <td>27.720748</td>\n",
       "      <td>0</td>\n",
       "      <td>1</td>\n",
       "    </tr>\n",
       "    <tr>\n",
       "      <th>4</th>\n",
       "      <td>4</td>\n",
       "      <td>9</td>\n",
       "      <td>9</td>\n",
       "      <td>60491</td>\n",
       "      <td>0</td>\n",
       "      <td>78.0</td>\n",
       "      <td>0</td>\n",
       "      <td>0</td>\n",
       "      <td>1</td>\n",
       "      <td>2</td>\n",
       "      <td>1</td>\n",
       "      <td>58.57</td>\n",
       "      <td>24.200000</td>\n",
       "      <td>0</td>\n",
       "      <td>1</td>\n",
       "    </tr>\n",
       "  </tbody>\n",
       "</table>\n",
       "</div>"
      ],
      "text/plain": [
       "   Unnamed: 0  Unnamed: 0.1  Unnamed: 0.1.1     id  gender   age  \\\n",
       "0           0             2               2  31112       1  80.0   \n",
       "1           1             6               6  53882       1  74.0   \n",
       "2           2             7               7  10434       0  69.0   \n",
       "3           3             8               8  27419       0  59.0   \n",
       "4           4             9               9  60491       0  78.0   \n",
       "\n",
       "   hypertension  heart_disease  ever_married  work_type  Residence_type  \\\n",
       "0             0              1             1          2               0   \n",
       "1             1              1             1          2               0   \n",
       "2             0              0             0          2               1   \n",
       "3             0              0             1          2               0   \n",
       "4             0              0             1          2               1   \n",
       "\n",
       "   avg_glucose_level        bmi  smoking_status  stroke  \n",
       "0             105.92  32.500000               2       1  \n",
       "1              70.09  27.400000               2       1  \n",
       "2              94.39  22.800000               2       1  \n",
       "3              76.15  27.720748               0       1  \n",
       "4              58.57  24.200000               0       1  "
      ]
     },
     "execution_count": 4,
     "metadata": {},
     "output_type": "execute_result"
    }
   ],
   "source": [
    "df_subset = pd.read_csv(r\"C:\\Users\\Chinmay\\Desktop\\COMP 541\\cleaned1.csv\")\n",
    "df_subset.head()"
   ]
  },
  {
   "cell_type": "code",
   "execution_count": 5,
   "id": "740994d7",
   "metadata": {},
   "outputs": [],
   "source": [
    "a1 = df.iloc[:, :-1]\n",
    "b1 = df.iloc[:, -1]\n",
    "\n",
    "# testing = 20% ; testing = 80%\n",
    "# splitting the dataset using training and testing\n",
    "\n",
    "a1_train, a1_test, b1_train, b1_test = train_test_split(a1, b1, test_size=0.2, random_state=42) "
   ]
  },
  {
   "cell_type": "code",
   "execution_count": 6,
   "id": "00cbd9ff",
   "metadata": {},
   "outputs": [
    {
     "name": "stdout",
     "output_type": "stream",
     "text": [
      "   Unnamed: 0  Unnamed: 0.1  Unnamed: 0.1.1     id  gender   age  \\\n",
      "0           0             2               2  31112       1  80.0   \n",
      "1           1             6               6  53882       1  74.0   \n",
      "2           2             7               7  10434       0  69.0   \n",
      "3           3             8               8  27419       0  59.0   \n",
      "4           4             9               9  60491       0  78.0   \n",
      "\n",
      "   hypertension  heart_disease  ever_married  work_type  Residence_type  \\\n",
      "0             0              1             1          2               0   \n",
      "1             1              1             1          2               0   \n",
      "2             0              0             0          2               1   \n",
      "3             0              0             1          2               0   \n",
      "4             0              0             1          2               1   \n",
      "\n",
      "   avg_glucose_level        bmi  smoking_status  stroke  \n",
      "0             105.92  32.500000               2       1  \n",
      "1              70.09  27.400000               2       1  \n",
      "2              94.39  22.800000               2       1  \n",
      "3              76.15  27.720748               0       1  \n",
      "4              58.57  24.200000               0       1  \n"
     ]
    }
   ],
   "source": [
    "# Dataframe for stroke == 1\n",
    "\n",
    "df_stroke = df_subset[df_subset['stroke'] == 1] \n",
    "print(df_stroke.head())"
   ]
  },
  {
   "cell_type": "code",
   "execution_count": 7,
   "id": "b1d9f257",
   "metadata": {},
   "outputs": [
    {
     "name": "stdout",
     "output_type": "stream",
     "text": [
      "      Unnamed: 0  Unnamed: 0.1  Unnamed: 0.1.1     id  gender   age  \\\n",
      "762          762           976             976  52549       1  59.0   \n",
      "3767        3767          4564            4564  25476       0  52.0   \n",
      "1633        1633          2019            2019  66546       0  20.0   \n",
      "2724        2724          3328            3328  42348       1  72.0   \n",
      "565          565           751             751  25595       0  58.0   \n",
      "\n",
      "      hypertension  heart_disease  ever_married  work_type  Residence_type  \\\n",
      "762              0              0             1          0               0   \n",
      "3767             0              0             1          2               1   \n",
      "1633             0              0             0          2               1   \n",
      "2724             0              1             1          3               1   \n",
      "565              1              0             1          2               1   \n",
      "\n",
      "      avg_glucose_level   bmi  smoking_status  stroke  \n",
      "762               88.81  38.0               1       0  \n",
      "3767              83.84  35.0               0       0  \n",
      "1633              80.08  25.1               2       0  \n",
      "2724              63.86  29.5               3       0  \n",
      "565               85.83  44.0               1       0  \n"
     ]
    }
   ],
   "source": [
    "# Dataframe for stroke == 0\n",
    "\n",
    "df_no_stroke = df_subset[df_subset['stroke'] == 0].sample(n=200, random_state=42)\n",
    "print(df_no_stroke.head())"
   ]
  },
  {
   "cell_type": "code",
   "execution_count": 8,
   "id": "982441f2",
   "metadata": {
    "scrolled": true
   },
   "outputs": [
    {
     "data": {
      "text/html": [
       "<div>\n",
       "<style scoped>\n",
       "    .dataframe tbody tr th:only-of-type {\n",
       "        vertical-align: middle;\n",
       "    }\n",
       "\n",
       "    .dataframe tbody tr th {\n",
       "        vertical-align: top;\n",
       "    }\n",
       "\n",
       "    .dataframe thead th {\n",
       "        text-align: right;\n",
       "    }\n",
       "</style>\n",
       "<table border=\"1\" class=\"dataframe\">\n",
       "  <thead>\n",
       "    <tr style=\"text-align: right;\">\n",
       "      <th></th>\n",
       "      <th>Unnamed: 0</th>\n",
       "      <th>Unnamed: 0.1</th>\n",
       "      <th>Unnamed: 0.1.1</th>\n",
       "      <th>id</th>\n",
       "      <th>gender</th>\n",
       "      <th>age</th>\n",
       "      <th>hypertension</th>\n",
       "      <th>heart_disease</th>\n",
       "      <th>ever_married</th>\n",
       "      <th>work_type</th>\n",
       "      <th>Residence_type</th>\n",
       "      <th>avg_glucose_level</th>\n",
       "      <th>bmi</th>\n",
       "      <th>smoking_status</th>\n",
       "      <th>stroke</th>\n",
       "    </tr>\n",
       "  </thead>\n",
       "  <tbody>\n",
       "    <tr>\n",
       "      <th>0</th>\n",
       "      <td>0</td>\n",
       "      <td>2</td>\n",
       "      <td>2</td>\n",
       "      <td>31112</td>\n",
       "      <td>1</td>\n",
       "      <td>80.0</td>\n",
       "      <td>0</td>\n",
       "      <td>1</td>\n",
       "      <td>1</td>\n",
       "      <td>2</td>\n",
       "      <td>0</td>\n",
       "      <td>105.92</td>\n",
       "      <td>32.500000</td>\n",
       "      <td>2</td>\n",
       "      <td>1</td>\n",
       "    </tr>\n",
       "    <tr>\n",
       "      <th>1</th>\n",
       "      <td>1</td>\n",
       "      <td>6</td>\n",
       "      <td>6</td>\n",
       "      <td>53882</td>\n",
       "      <td>1</td>\n",
       "      <td>74.0</td>\n",
       "      <td>1</td>\n",
       "      <td>1</td>\n",
       "      <td>1</td>\n",
       "      <td>2</td>\n",
       "      <td>0</td>\n",
       "      <td>70.09</td>\n",
       "      <td>27.400000</td>\n",
       "      <td>2</td>\n",
       "      <td>1</td>\n",
       "    </tr>\n",
       "    <tr>\n",
       "      <th>2</th>\n",
       "      <td>2</td>\n",
       "      <td>7</td>\n",
       "      <td>7</td>\n",
       "      <td>10434</td>\n",
       "      <td>0</td>\n",
       "      <td>69.0</td>\n",
       "      <td>0</td>\n",
       "      <td>0</td>\n",
       "      <td>0</td>\n",
       "      <td>2</td>\n",
       "      <td>1</td>\n",
       "      <td>94.39</td>\n",
       "      <td>22.800000</td>\n",
       "      <td>2</td>\n",
       "      <td>1</td>\n",
       "    </tr>\n",
       "    <tr>\n",
       "      <th>3</th>\n",
       "      <td>3</td>\n",
       "      <td>8</td>\n",
       "      <td>8</td>\n",
       "      <td>27419</td>\n",
       "      <td>0</td>\n",
       "      <td>59.0</td>\n",
       "      <td>0</td>\n",
       "      <td>0</td>\n",
       "      <td>1</td>\n",
       "      <td>2</td>\n",
       "      <td>0</td>\n",
       "      <td>76.15</td>\n",
       "      <td>27.720748</td>\n",
       "      <td>0</td>\n",
       "      <td>1</td>\n",
       "    </tr>\n",
       "    <tr>\n",
       "      <th>4</th>\n",
       "      <td>4</td>\n",
       "      <td>9</td>\n",
       "      <td>9</td>\n",
       "      <td>60491</td>\n",
       "      <td>0</td>\n",
       "      <td>78.0</td>\n",
       "      <td>0</td>\n",
       "      <td>0</td>\n",
       "      <td>1</td>\n",
       "      <td>2</td>\n",
       "      <td>1</td>\n",
       "      <td>58.57</td>\n",
       "      <td>24.200000</td>\n",
       "      <td>0</td>\n",
       "      <td>1</td>\n",
       "    </tr>\n",
       "  </tbody>\n",
       "</table>\n",
       "</div>"
      ],
      "text/plain": [
       "   Unnamed: 0  Unnamed: 0.1  Unnamed: 0.1.1     id  gender   age  \\\n",
       "0           0             2               2  31112       1  80.0   \n",
       "1           1             6               6  53882       1  74.0   \n",
       "2           2             7               7  10434       0  69.0   \n",
       "3           3             8               8  27419       0  59.0   \n",
       "4           4             9               9  60491       0  78.0   \n",
       "\n",
       "   hypertension  heart_disease  ever_married  work_type  Residence_type  \\\n",
       "0             0              1             1          2               0   \n",
       "1             1              1             1          2               0   \n",
       "2             0              0             0          2               1   \n",
       "3             0              0             1          2               0   \n",
       "4             0              0             1          2               1   \n",
       "\n",
       "   avg_glucose_level        bmi  smoking_status  stroke  \n",
       "0             105.92  32.500000               2       1  \n",
       "1              70.09  27.400000               2       1  \n",
       "2              94.39  22.800000               2       1  \n",
       "3              76.15  27.720748               0       1  \n",
       "4              58.57  24.200000               0       1  "
      ]
     },
     "execution_count": 8,
     "metadata": {},
     "output_type": "execute_result"
    }
   ],
   "source": [
    "# I used a smaller sample of the larger data for 0 values to balance using SMOTE\n",
    "\n",
    "df_concat= pd.concat([df_stroke, df_no_stroke], axis=0)\n",
    "df_concat.head()"
   ]
  },
  {
   "cell_type": "code",
   "execution_count": 9,
   "id": "b9607338",
   "metadata": {},
   "outputs": [
    {
     "name": "stdout",
     "output_type": "stream",
     "text": [
      "   stroke  count\n",
      "0       0    200\n",
      "1       1    157\n"
     ]
    }
   ],
   "source": [
    "# calculate aggregated values for the generated groups\n",
    "\n",
    "df_combined = df_concat.groupby('stroke').size().reset_index(name='count')\n",
    "\n",
    "print(df_combined)"
   ]
  },
  {
   "cell_type": "code",
   "execution_count": 10,
   "id": "f3af4e20",
   "metadata": {},
   "outputs": [],
   "source": [
    "a = df_concat.iloc[:, :-1]\n",
    "b = df_concat.iloc[:, -1]\n",
    "a_train, a_test, b_train, b_test = train_test_split(a, b, test_size=0.1, random_state=42)"
   ]
  },
  {
   "cell_type": "code",
   "execution_count": 11,
   "id": "1e95481f",
   "metadata": {},
   "outputs": [
    {
     "name": "stdout",
     "output_type": "stream",
     "text": [
      "Before standardizing Counter({0: 182, 1: 139})\n"
     ]
    }
   ],
   "source": [
    "# Checking data balance before standardizing \n",
    "\n",
    "import collections\n",
    "total = collections.Counter(b_train)\n",
    "print(\"Before standardizing\", total)"
   ]
  },
  {
   "cell_type": "code",
   "execution_count": 12,
   "id": "62dfd9be",
   "metadata": {},
   "outputs": [],
   "source": [
    "from sklearn.preprocessing import StandardScaler\n",
    "\n",
    "# Standardize the data\n",
    "scaler = StandardScaler()\n",
    "a_train = scaler.fit_transform(a_train)\n",
    "a_test = scaler.transform(a_test)\n"
   ]
  },
  {
   "cell_type": "code",
   "execution_count": 13,
   "id": "bc815a8e",
   "metadata": {},
   "outputs": [],
   "source": [
    "# As the dataset is imbalanced, I solved this problem by using SMOTE.\n",
    "# SMOTE works by selecting pair of minority class observations and then creating a synthetic point that lies on the line connecting these two\n",
    "\n",
    "sm = SMOTE(random_state=42)\n",
    "a_train_resampled, b_train_resampled = sm.fit_resample(a_train, b_train)\n"
   ]
  },
  {
   "cell_type": "code",
   "execution_count": 14,
   "id": "12057efd",
   "metadata": {},
   "outputs": [
    {
     "name": "stdout",
     "output_type": "stream",
     "text": [
      "After standardizing Counter({1: 182, 0: 182})\n"
     ]
    }
   ],
   "source": [
    "#Checking data balance after standardizing\n",
    "\n",
    "total = collections.Counter(b_train_resampled)\n",
    "print(\"After standardizing\", total)"
   ]
  },
  {
   "cell_type": "markdown",
   "id": "66940650",
   "metadata": {},
   "source": [
    "## _STEP 2_"
   ]
  },
  {
   "cell_type": "markdown",
   "id": "c3577b46",
   "metadata": {},
   "source": [
    "### _Logistic Regression Model_"
   ]
  },
  {
   "cell_type": "code",
   "execution_count": 15,
   "id": "e13ac332",
   "metadata": {},
   "outputs": [],
   "source": [
    "# Declaring model for Logictic Regression\n",
    "\n",
    "Logistic_regression_model = LogisticRegression()"
   ]
  },
  {
   "cell_type": "code",
   "execution_count": 16,
   "id": "e9914e5d",
   "metadata": {},
   "outputs": [
    {
     "data": {
      "text/html": [
       "<style>#sk-container-id-1 {color: black;background-color: white;}#sk-container-id-1 pre{padding: 0;}#sk-container-id-1 div.sk-toggleable {background-color: white;}#sk-container-id-1 label.sk-toggleable__label {cursor: pointer;display: block;width: 100%;margin-bottom: 0;padding: 0.3em;box-sizing: border-box;text-align: center;}#sk-container-id-1 label.sk-toggleable__label-arrow:before {content: \"▸\";float: left;margin-right: 0.25em;color: #696969;}#sk-container-id-1 label.sk-toggleable__label-arrow:hover:before {color: black;}#sk-container-id-1 div.sk-estimator:hover label.sk-toggleable__label-arrow:before {color: black;}#sk-container-id-1 div.sk-toggleable__content {max-height: 0;max-width: 0;overflow: hidden;text-align: left;background-color: #f0f8ff;}#sk-container-id-1 div.sk-toggleable__content pre {margin: 0.2em;color: black;border-radius: 0.25em;background-color: #f0f8ff;}#sk-container-id-1 input.sk-toggleable__control:checked~div.sk-toggleable__content {max-height: 200px;max-width: 100%;overflow: auto;}#sk-container-id-1 input.sk-toggleable__control:checked~label.sk-toggleable__label-arrow:before {content: \"▾\";}#sk-container-id-1 div.sk-estimator input.sk-toggleable__control:checked~label.sk-toggleable__label {background-color: #d4ebff;}#sk-container-id-1 div.sk-label input.sk-toggleable__control:checked~label.sk-toggleable__label {background-color: #d4ebff;}#sk-container-id-1 input.sk-hidden--visually {border: 0;clip: rect(1px 1px 1px 1px);clip: rect(1px, 1px, 1px, 1px);height: 1px;margin: -1px;overflow: hidden;padding: 0;position: absolute;width: 1px;}#sk-container-id-1 div.sk-estimator {font-family: monospace;background-color: #f0f8ff;border: 1px dotted black;border-radius: 0.25em;box-sizing: border-box;margin-bottom: 0.5em;}#sk-container-id-1 div.sk-estimator:hover {background-color: #d4ebff;}#sk-container-id-1 div.sk-parallel-item::after {content: \"\";width: 100%;border-bottom: 1px solid gray;flex-grow: 1;}#sk-container-id-1 div.sk-label:hover label.sk-toggleable__label {background-color: #d4ebff;}#sk-container-id-1 div.sk-serial::before {content: \"\";position: absolute;border-left: 1px solid gray;box-sizing: border-box;top: 0;bottom: 0;left: 50%;z-index: 0;}#sk-container-id-1 div.sk-serial {display: flex;flex-direction: column;align-items: center;background-color: white;padding-right: 0.2em;padding-left: 0.2em;position: relative;}#sk-container-id-1 div.sk-item {position: relative;z-index: 1;}#sk-container-id-1 div.sk-parallel {display: flex;align-items: stretch;justify-content: center;background-color: white;position: relative;}#sk-container-id-1 div.sk-item::before, #sk-container-id-1 div.sk-parallel-item::before {content: \"\";position: absolute;border-left: 1px solid gray;box-sizing: border-box;top: 0;bottom: 0;left: 50%;z-index: -1;}#sk-container-id-1 div.sk-parallel-item {display: flex;flex-direction: column;z-index: 1;position: relative;background-color: white;}#sk-container-id-1 div.sk-parallel-item:first-child::after {align-self: flex-end;width: 50%;}#sk-container-id-1 div.sk-parallel-item:last-child::after {align-self: flex-start;width: 50%;}#sk-container-id-1 div.sk-parallel-item:only-child::after {width: 0;}#sk-container-id-1 div.sk-dashed-wrapped {border: 1px dashed gray;margin: 0 0.4em 0.5em 0.4em;box-sizing: border-box;padding-bottom: 0.4em;background-color: white;}#sk-container-id-1 div.sk-label label {font-family: monospace;font-weight: bold;display: inline-block;line-height: 1.2em;}#sk-container-id-1 div.sk-label-container {text-align: center;}#sk-container-id-1 div.sk-container {/* jupyter's `normalize.less` sets `[hidden] { display: none; }` but bootstrap.min.css set `[hidden] { display: none !important; }` so we also need the `!important` here to be able to override the default hidden behavior on the sphinx rendered scikit-learn.org. See: https://github.com/scikit-learn/scikit-learn/issues/21755 */display: inline-block !important;position: relative;}#sk-container-id-1 div.sk-text-repr-fallback {display: none;}</style><div id=\"sk-container-id-1\" class=\"sk-top-container\"><div class=\"sk-text-repr-fallback\"><pre>LogisticRegression()</pre><b>In a Jupyter environment, please rerun this cell to show the HTML representation or trust the notebook. <br />On GitHub, the HTML representation is unable to render, please try loading this page with nbviewer.org.</b></div><div class=\"sk-container\" hidden><div class=\"sk-item\"><div class=\"sk-estimator sk-toggleable\"><input class=\"sk-toggleable__control sk-hidden--visually\" id=\"sk-estimator-id-1\" type=\"checkbox\" checked><label for=\"sk-estimator-id-1\" class=\"sk-toggleable__label sk-toggleable__label-arrow\">LogisticRegression</label><div class=\"sk-toggleable__content\"><pre>LogisticRegression()</pre></div></div></div></div></div>"
      ],
      "text/plain": [
       "LogisticRegression()"
      ]
     },
     "execution_count": 16,
     "metadata": {},
     "output_type": "execute_result"
    }
   ],
   "source": [
    "# Building the model for Logisitic Regression using training dataset\n",
    "\n",
    "Logistic_regression_model.fit(a_train_resampled, b_train_resampled)"
   ]
  },
  {
   "cell_type": "markdown",
   "id": "27aaeb4a",
   "metadata": {},
   "source": [
    "### _Naive Bayes Model_"
   ]
  },
  {
   "cell_type": "code",
   "execution_count": 17,
   "id": "fd0afe10",
   "metadata": {},
   "outputs": [],
   "source": [
    "# Declaring model for Naive Bayes\n",
    "\n",
    "Naive_Bayes_model = GaussianNB()"
   ]
  },
  {
   "cell_type": "code",
   "execution_count": 18,
   "id": "54b02c31",
   "metadata": {},
   "outputs": [
    {
     "data": {
      "text/html": [
       "<style>#sk-container-id-2 {color: black;background-color: white;}#sk-container-id-2 pre{padding: 0;}#sk-container-id-2 div.sk-toggleable {background-color: white;}#sk-container-id-2 label.sk-toggleable__label {cursor: pointer;display: block;width: 100%;margin-bottom: 0;padding: 0.3em;box-sizing: border-box;text-align: center;}#sk-container-id-2 label.sk-toggleable__label-arrow:before {content: \"▸\";float: left;margin-right: 0.25em;color: #696969;}#sk-container-id-2 label.sk-toggleable__label-arrow:hover:before {color: black;}#sk-container-id-2 div.sk-estimator:hover label.sk-toggleable__label-arrow:before {color: black;}#sk-container-id-2 div.sk-toggleable__content {max-height: 0;max-width: 0;overflow: hidden;text-align: left;background-color: #f0f8ff;}#sk-container-id-2 div.sk-toggleable__content pre {margin: 0.2em;color: black;border-radius: 0.25em;background-color: #f0f8ff;}#sk-container-id-2 input.sk-toggleable__control:checked~div.sk-toggleable__content {max-height: 200px;max-width: 100%;overflow: auto;}#sk-container-id-2 input.sk-toggleable__control:checked~label.sk-toggleable__label-arrow:before {content: \"▾\";}#sk-container-id-2 div.sk-estimator input.sk-toggleable__control:checked~label.sk-toggleable__label {background-color: #d4ebff;}#sk-container-id-2 div.sk-label input.sk-toggleable__control:checked~label.sk-toggleable__label {background-color: #d4ebff;}#sk-container-id-2 input.sk-hidden--visually {border: 0;clip: rect(1px 1px 1px 1px);clip: rect(1px, 1px, 1px, 1px);height: 1px;margin: -1px;overflow: hidden;padding: 0;position: absolute;width: 1px;}#sk-container-id-2 div.sk-estimator {font-family: monospace;background-color: #f0f8ff;border: 1px dotted black;border-radius: 0.25em;box-sizing: border-box;margin-bottom: 0.5em;}#sk-container-id-2 div.sk-estimator:hover {background-color: #d4ebff;}#sk-container-id-2 div.sk-parallel-item::after {content: \"\";width: 100%;border-bottom: 1px solid gray;flex-grow: 1;}#sk-container-id-2 div.sk-label:hover label.sk-toggleable__label {background-color: #d4ebff;}#sk-container-id-2 div.sk-serial::before {content: \"\";position: absolute;border-left: 1px solid gray;box-sizing: border-box;top: 0;bottom: 0;left: 50%;z-index: 0;}#sk-container-id-2 div.sk-serial {display: flex;flex-direction: column;align-items: center;background-color: white;padding-right: 0.2em;padding-left: 0.2em;position: relative;}#sk-container-id-2 div.sk-item {position: relative;z-index: 1;}#sk-container-id-2 div.sk-parallel {display: flex;align-items: stretch;justify-content: center;background-color: white;position: relative;}#sk-container-id-2 div.sk-item::before, #sk-container-id-2 div.sk-parallel-item::before {content: \"\";position: absolute;border-left: 1px solid gray;box-sizing: border-box;top: 0;bottom: 0;left: 50%;z-index: -1;}#sk-container-id-2 div.sk-parallel-item {display: flex;flex-direction: column;z-index: 1;position: relative;background-color: white;}#sk-container-id-2 div.sk-parallel-item:first-child::after {align-self: flex-end;width: 50%;}#sk-container-id-2 div.sk-parallel-item:last-child::after {align-self: flex-start;width: 50%;}#sk-container-id-2 div.sk-parallel-item:only-child::after {width: 0;}#sk-container-id-2 div.sk-dashed-wrapped {border: 1px dashed gray;margin: 0 0.4em 0.5em 0.4em;box-sizing: border-box;padding-bottom: 0.4em;background-color: white;}#sk-container-id-2 div.sk-label label {font-family: monospace;font-weight: bold;display: inline-block;line-height: 1.2em;}#sk-container-id-2 div.sk-label-container {text-align: center;}#sk-container-id-2 div.sk-container {/* jupyter's `normalize.less` sets `[hidden] { display: none; }` but bootstrap.min.css set `[hidden] { display: none !important; }` so we also need the `!important` here to be able to override the default hidden behavior on the sphinx rendered scikit-learn.org. See: https://github.com/scikit-learn/scikit-learn/issues/21755 */display: inline-block !important;position: relative;}#sk-container-id-2 div.sk-text-repr-fallback {display: none;}</style><div id=\"sk-container-id-2\" class=\"sk-top-container\"><div class=\"sk-text-repr-fallback\"><pre>GaussianNB()</pre><b>In a Jupyter environment, please rerun this cell to show the HTML representation or trust the notebook. <br />On GitHub, the HTML representation is unable to render, please try loading this page with nbviewer.org.</b></div><div class=\"sk-container\" hidden><div class=\"sk-item\"><div class=\"sk-estimator sk-toggleable\"><input class=\"sk-toggleable__control sk-hidden--visually\" id=\"sk-estimator-id-2\" type=\"checkbox\" checked><label for=\"sk-estimator-id-2\" class=\"sk-toggleable__label sk-toggleable__label-arrow\">GaussianNB</label><div class=\"sk-toggleable__content\"><pre>GaussianNB()</pre></div></div></div></div></div>"
      ],
      "text/plain": [
       "GaussianNB()"
      ]
     },
     "execution_count": 18,
     "metadata": {},
     "output_type": "execute_result"
    }
   ],
   "source": [
    "# Building the model for Naive Bayes using training dataset\n",
    "\n",
    "Naive_Bayes_model.fit(a_train_resampled, b_train_resampled)"
   ]
  },
  {
   "cell_type": "markdown",
   "id": "f16741a2",
   "metadata": {},
   "source": [
    "### _K Nearest Neighbor Classifier Model_"
   ]
  },
  {
   "cell_type": "code",
   "execution_count": 19,
   "id": "8f715b4f",
   "metadata": {},
   "outputs": [],
   "source": [
    "# Declaring model for K Nearest Neighbor classifier\n",
    "\n",
    "KNN_Classifier_model = KNeighborsClassifier(n_neighbors=5)"
   ]
  },
  {
   "cell_type": "code",
   "execution_count": 20,
   "id": "13f19c04",
   "metadata": {},
   "outputs": [
    {
     "data": {
      "text/html": [
       "<style>#sk-container-id-3 {color: black;background-color: white;}#sk-container-id-3 pre{padding: 0;}#sk-container-id-3 div.sk-toggleable {background-color: white;}#sk-container-id-3 label.sk-toggleable__label {cursor: pointer;display: block;width: 100%;margin-bottom: 0;padding: 0.3em;box-sizing: border-box;text-align: center;}#sk-container-id-3 label.sk-toggleable__label-arrow:before {content: \"▸\";float: left;margin-right: 0.25em;color: #696969;}#sk-container-id-3 label.sk-toggleable__label-arrow:hover:before {color: black;}#sk-container-id-3 div.sk-estimator:hover label.sk-toggleable__label-arrow:before {color: black;}#sk-container-id-3 div.sk-toggleable__content {max-height: 0;max-width: 0;overflow: hidden;text-align: left;background-color: #f0f8ff;}#sk-container-id-3 div.sk-toggleable__content pre {margin: 0.2em;color: black;border-radius: 0.25em;background-color: #f0f8ff;}#sk-container-id-3 input.sk-toggleable__control:checked~div.sk-toggleable__content {max-height: 200px;max-width: 100%;overflow: auto;}#sk-container-id-3 input.sk-toggleable__control:checked~label.sk-toggleable__label-arrow:before {content: \"▾\";}#sk-container-id-3 div.sk-estimator input.sk-toggleable__control:checked~label.sk-toggleable__label {background-color: #d4ebff;}#sk-container-id-3 div.sk-label input.sk-toggleable__control:checked~label.sk-toggleable__label {background-color: #d4ebff;}#sk-container-id-3 input.sk-hidden--visually {border: 0;clip: rect(1px 1px 1px 1px);clip: rect(1px, 1px, 1px, 1px);height: 1px;margin: -1px;overflow: hidden;padding: 0;position: absolute;width: 1px;}#sk-container-id-3 div.sk-estimator {font-family: monospace;background-color: #f0f8ff;border: 1px dotted black;border-radius: 0.25em;box-sizing: border-box;margin-bottom: 0.5em;}#sk-container-id-3 div.sk-estimator:hover {background-color: #d4ebff;}#sk-container-id-3 div.sk-parallel-item::after {content: \"\";width: 100%;border-bottom: 1px solid gray;flex-grow: 1;}#sk-container-id-3 div.sk-label:hover label.sk-toggleable__label {background-color: #d4ebff;}#sk-container-id-3 div.sk-serial::before {content: \"\";position: absolute;border-left: 1px solid gray;box-sizing: border-box;top: 0;bottom: 0;left: 50%;z-index: 0;}#sk-container-id-3 div.sk-serial {display: flex;flex-direction: column;align-items: center;background-color: white;padding-right: 0.2em;padding-left: 0.2em;position: relative;}#sk-container-id-3 div.sk-item {position: relative;z-index: 1;}#sk-container-id-3 div.sk-parallel {display: flex;align-items: stretch;justify-content: center;background-color: white;position: relative;}#sk-container-id-3 div.sk-item::before, #sk-container-id-3 div.sk-parallel-item::before {content: \"\";position: absolute;border-left: 1px solid gray;box-sizing: border-box;top: 0;bottom: 0;left: 50%;z-index: -1;}#sk-container-id-3 div.sk-parallel-item {display: flex;flex-direction: column;z-index: 1;position: relative;background-color: white;}#sk-container-id-3 div.sk-parallel-item:first-child::after {align-self: flex-end;width: 50%;}#sk-container-id-3 div.sk-parallel-item:last-child::after {align-self: flex-start;width: 50%;}#sk-container-id-3 div.sk-parallel-item:only-child::after {width: 0;}#sk-container-id-3 div.sk-dashed-wrapped {border: 1px dashed gray;margin: 0 0.4em 0.5em 0.4em;box-sizing: border-box;padding-bottom: 0.4em;background-color: white;}#sk-container-id-3 div.sk-label label {font-family: monospace;font-weight: bold;display: inline-block;line-height: 1.2em;}#sk-container-id-3 div.sk-label-container {text-align: center;}#sk-container-id-3 div.sk-container {/* jupyter's `normalize.less` sets `[hidden] { display: none; }` but bootstrap.min.css set `[hidden] { display: none !important; }` so we also need the `!important` here to be able to override the default hidden behavior on the sphinx rendered scikit-learn.org. See: https://github.com/scikit-learn/scikit-learn/issues/21755 */display: inline-block !important;position: relative;}#sk-container-id-3 div.sk-text-repr-fallback {display: none;}</style><div id=\"sk-container-id-3\" class=\"sk-top-container\"><div class=\"sk-text-repr-fallback\"><pre>KNeighborsClassifier()</pre><b>In a Jupyter environment, please rerun this cell to show the HTML representation or trust the notebook. <br />On GitHub, the HTML representation is unable to render, please try loading this page with nbviewer.org.</b></div><div class=\"sk-container\" hidden><div class=\"sk-item\"><div class=\"sk-estimator sk-toggleable\"><input class=\"sk-toggleable__control sk-hidden--visually\" id=\"sk-estimator-id-3\" type=\"checkbox\" checked><label for=\"sk-estimator-id-3\" class=\"sk-toggleable__label sk-toggleable__label-arrow\">KNeighborsClassifier</label><div class=\"sk-toggleable__content\"><pre>KNeighborsClassifier()</pre></div></div></div></div></div>"
      ],
      "text/plain": [
       "KNeighborsClassifier()"
      ]
     },
     "execution_count": 20,
     "metadata": {},
     "output_type": "execute_result"
    }
   ],
   "source": [
    "# Building the model for K Nearest Neighbor Classifier using training dataset\n",
    "\n",
    "KNN_Classifier_model.fit(a_train_resampled, b_train_resampled)"
   ]
  },
  {
   "cell_type": "markdown",
   "id": "de688c19",
   "metadata": {},
   "source": [
    "### _Support Vector Machine Model_"
   ]
  },
  {
   "cell_type": "code",
   "execution_count": 21,
   "id": "18f76d86",
   "metadata": {},
   "outputs": [],
   "source": [
    "# Declaring model for Support Vector Machine Model\n",
    "\n",
    "SVC_Model = SVC(kernel='linear', C=1, random_state=42)"
   ]
  },
  {
   "cell_type": "code",
   "execution_count": 22,
   "id": "b1e0eb24",
   "metadata": {},
   "outputs": [
    {
     "data": {
      "text/html": [
       "<style>#sk-container-id-4 {color: black;background-color: white;}#sk-container-id-4 pre{padding: 0;}#sk-container-id-4 div.sk-toggleable {background-color: white;}#sk-container-id-4 label.sk-toggleable__label {cursor: pointer;display: block;width: 100%;margin-bottom: 0;padding: 0.3em;box-sizing: border-box;text-align: center;}#sk-container-id-4 label.sk-toggleable__label-arrow:before {content: \"▸\";float: left;margin-right: 0.25em;color: #696969;}#sk-container-id-4 label.sk-toggleable__label-arrow:hover:before {color: black;}#sk-container-id-4 div.sk-estimator:hover label.sk-toggleable__label-arrow:before {color: black;}#sk-container-id-4 div.sk-toggleable__content {max-height: 0;max-width: 0;overflow: hidden;text-align: left;background-color: #f0f8ff;}#sk-container-id-4 div.sk-toggleable__content pre {margin: 0.2em;color: black;border-radius: 0.25em;background-color: #f0f8ff;}#sk-container-id-4 input.sk-toggleable__control:checked~div.sk-toggleable__content {max-height: 200px;max-width: 100%;overflow: auto;}#sk-container-id-4 input.sk-toggleable__control:checked~label.sk-toggleable__label-arrow:before {content: \"▾\";}#sk-container-id-4 div.sk-estimator input.sk-toggleable__control:checked~label.sk-toggleable__label {background-color: #d4ebff;}#sk-container-id-4 div.sk-label input.sk-toggleable__control:checked~label.sk-toggleable__label {background-color: #d4ebff;}#sk-container-id-4 input.sk-hidden--visually {border: 0;clip: rect(1px 1px 1px 1px);clip: rect(1px, 1px, 1px, 1px);height: 1px;margin: -1px;overflow: hidden;padding: 0;position: absolute;width: 1px;}#sk-container-id-4 div.sk-estimator {font-family: monospace;background-color: #f0f8ff;border: 1px dotted black;border-radius: 0.25em;box-sizing: border-box;margin-bottom: 0.5em;}#sk-container-id-4 div.sk-estimator:hover {background-color: #d4ebff;}#sk-container-id-4 div.sk-parallel-item::after {content: \"\";width: 100%;border-bottom: 1px solid gray;flex-grow: 1;}#sk-container-id-4 div.sk-label:hover label.sk-toggleable__label {background-color: #d4ebff;}#sk-container-id-4 div.sk-serial::before {content: \"\";position: absolute;border-left: 1px solid gray;box-sizing: border-box;top: 0;bottom: 0;left: 50%;z-index: 0;}#sk-container-id-4 div.sk-serial {display: flex;flex-direction: column;align-items: center;background-color: white;padding-right: 0.2em;padding-left: 0.2em;position: relative;}#sk-container-id-4 div.sk-item {position: relative;z-index: 1;}#sk-container-id-4 div.sk-parallel {display: flex;align-items: stretch;justify-content: center;background-color: white;position: relative;}#sk-container-id-4 div.sk-item::before, #sk-container-id-4 div.sk-parallel-item::before {content: \"\";position: absolute;border-left: 1px solid gray;box-sizing: border-box;top: 0;bottom: 0;left: 50%;z-index: -1;}#sk-container-id-4 div.sk-parallel-item {display: flex;flex-direction: column;z-index: 1;position: relative;background-color: white;}#sk-container-id-4 div.sk-parallel-item:first-child::after {align-self: flex-end;width: 50%;}#sk-container-id-4 div.sk-parallel-item:last-child::after {align-self: flex-start;width: 50%;}#sk-container-id-4 div.sk-parallel-item:only-child::after {width: 0;}#sk-container-id-4 div.sk-dashed-wrapped {border: 1px dashed gray;margin: 0 0.4em 0.5em 0.4em;box-sizing: border-box;padding-bottom: 0.4em;background-color: white;}#sk-container-id-4 div.sk-label label {font-family: monospace;font-weight: bold;display: inline-block;line-height: 1.2em;}#sk-container-id-4 div.sk-label-container {text-align: center;}#sk-container-id-4 div.sk-container {/* jupyter's `normalize.less` sets `[hidden] { display: none; }` but bootstrap.min.css set `[hidden] { display: none !important; }` so we also need the `!important` here to be able to override the default hidden behavior on the sphinx rendered scikit-learn.org. See: https://github.com/scikit-learn/scikit-learn/issues/21755 */display: inline-block !important;position: relative;}#sk-container-id-4 div.sk-text-repr-fallback {display: none;}</style><div id=\"sk-container-id-4\" class=\"sk-top-container\"><div class=\"sk-text-repr-fallback\"><pre>SVC(C=1, kernel=&#x27;linear&#x27;, random_state=42)</pre><b>In a Jupyter environment, please rerun this cell to show the HTML representation or trust the notebook. <br />On GitHub, the HTML representation is unable to render, please try loading this page with nbviewer.org.</b></div><div class=\"sk-container\" hidden><div class=\"sk-item\"><div class=\"sk-estimator sk-toggleable\"><input class=\"sk-toggleable__control sk-hidden--visually\" id=\"sk-estimator-id-4\" type=\"checkbox\" checked><label for=\"sk-estimator-id-4\" class=\"sk-toggleable__label sk-toggleable__label-arrow\">SVC</label><div class=\"sk-toggleable__content\"><pre>SVC(C=1, kernel=&#x27;linear&#x27;, random_state=42)</pre></div></div></div></div></div>"
      ],
      "text/plain": [
       "SVC(C=1, kernel='linear', random_state=42)"
      ]
     },
     "execution_count": 22,
     "metadata": {},
     "output_type": "execute_result"
    }
   ],
   "source": [
    "# Building the model for Support Vector Machine using training dataset\n",
    "\n",
    "SVC_Model.fit(a_train_resampled, b_train_resampled)"
   ]
  },
  {
   "cell_type": "markdown",
   "id": "58ce3308",
   "metadata": {},
   "source": [
    "## _STEP 3_"
   ]
  },
  {
   "cell_type": "markdown",
   "id": "d4b32656",
   "metadata": {},
   "source": [
    "### _Evaluating performance of Logistic Regression Model_"
   ]
  },
  {
   "cell_type": "code",
   "execution_count": 23,
   "id": "9bf68292",
   "metadata": {},
   "outputs": [
    {
     "name": "stderr",
     "output_type": "stream",
     "text": [
      "C:\\Users\\Chinmay\\Anaconda\\lib\\site-packages\\sklearn\\base.py:432: UserWarning: X has feature names, but LogisticRegression was fitted without feature names\n",
      "  warnings.warn(\n",
      "C:\\Users\\Chinmay\\Anaconda\\lib\\site-packages\\sklearn\\base.py:432: UserWarning: X has feature names, but LogisticRegression was fitted without feature names\n",
      "  warnings.warn(\n"
     ]
    }
   ],
   "source": [
    "b_logistic_regression_prediction = Logistic_regression_model.predict(a1_test)\n",
    "\n",
    "# Calculating accuracy score\n",
    "Logistic_regression_accuracy = accuracy_score(b1_test, b_logistic_regression_prediction)\n",
    "\n",
    "# Calculating F1 score\n",
    "Logistic_regression_f1 = f1_score(b1_test, b_logistic_regression_prediction)\n",
    "\n",
    "Logistic_regression_probs = Logistic_regression_model.predict_proba(a1_test)[:, 1]\n",
    "Logistic_regression_auc = roc_auc_score(b1_test, Logistic_regression_probs)\n",
    "Logistic_regression_fpr, Logistic_regression_tpr, Logistic_regression_thresholds = roc_curve(b1_test, Logistic_regression_probs)"
   ]
  },
  {
   "cell_type": "markdown",
   "id": "b702a646",
   "metadata": {},
   "source": [
    "### _Evaluating performance of Naive Bayes Model_"
   ]
  },
  {
   "cell_type": "code",
   "execution_count": 24,
   "id": "1e92471e",
   "metadata": {},
   "outputs": [
    {
     "name": "stderr",
     "output_type": "stream",
     "text": [
      "C:\\Users\\Chinmay\\Anaconda\\lib\\site-packages\\sklearn\\base.py:432: UserWarning: X has feature names, but GaussianNB was fitted without feature names\n",
      "  warnings.warn(\n",
      "C:\\Users\\Chinmay\\Anaconda\\lib\\site-packages\\sklearn\\base.py:432: UserWarning: X has feature names, but GaussianNB was fitted without feature names\n",
      "  warnings.warn(\n"
     ]
    }
   ],
   "source": [
    "b_naive_bayes_prediction = Naive_Bayes_model.predict(a1_test)\n",
    "\n",
    "# Calculating accuracy score\n",
    "naive_bayes_accuracy = accuracy_score(b1_test, b_naive_bayes_prediction)\n",
    "\n",
    "# Calculating F1 score\n",
    "naive_bayes_f1 = f1_score(b1_test, b_naive_bayes_prediction)\n",
    "\n",
    "Naive_Bayes_probs = Naive_Bayes_model.predict_proba(a1_test)[:, 1]\n",
    "Naive_Bayes_auc = roc_auc_score(b1_test, Naive_Bayes_probs)\n",
    "Naive_Bayes_fpr, Naive_Bayes_tpr, Naive_Bayes_thresholds = roc_curve(b1_test, Naive_Bayes_probs)"
   ]
  },
  {
   "cell_type": "markdown",
   "id": "84aaddaa",
   "metadata": {},
   "source": [
    "### _Evaluating performance of K Nearest Neighbor Classifier Model_"
   ]
  },
  {
   "cell_type": "code",
   "execution_count": 25,
   "id": "33081ea2",
   "metadata": {},
   "outputs": [
    {
     "name": "stderr",
     "output_type": "stream",
     "text": [
      "C:\\Users\\Chinmay\\Anaconda\\lib\\site-packages\\sklearn\\base.py:432: UserWarning: X has feature names, but KNeighborsClassifier was fitted without feature names\n",
      "  warnings.warn(\n",
      "C:\\Users\\Chinmay\\Anaconda\\lib\\site-packages\\sklearn\\base.py:432: UserWarning: X has feature names, but KNeighborsClassifier was fitted without feature names\n",
      "  warnings.warn(\n"
     ]
    }
   ],
   "source": [
    "b_knn_prediction = KNN_Classifier_model.predict(a1_test)\n",
    "\n",
    "# Calculating accuracy score\n",
    "knn_accuracy = accuracy_score(b1_test, b_knn_prediction)\n",
    "\n",
    "\n",
    "# Calculating F1 score\n",
    "knn_f1 = f1_score(b1_test, b_knn_prediction)\n",
    "\n",
    "knn_probs = KNN_Classifier_model.predict_proba(a1_test)[:, 1]\n",
    "knn_auc = roc_auc_score(b1_test, knn_probs)\n",
    "knn_fpr, knn_tpr, knn_thresholds = roc_curve(b1_test, knn_probs)"
   ]
  },
  {
   "cell_type": "markdown",
   "id": "3e569d6e",
   "metadata": {},
   "source": [
    "### _Evaluating performance of Support Vector Machine Model_"
   ]
  },
  {
   "cell_type": "code",
   "execution_count": 26,
   "id": "3682efb2",
   "metadata": {},
   "outputs": [
    {
     "name": "stderr",
     "output_type": "stream",
     "text": [
      "C:\\Users\\Chinmay\\Anaconda\\lib\\site-packages\\sklearn\\base.py:432: UserWarning: X has feature names, but SVC was fitted without feature names\n",
      "  warnings.warn(\n",
      "C:\\Users\\Chinmay\\Anaconda\\lib\\site-packages\\sklearn\\base.py:432: UserWarning: X has feature names, but SVC was fitted without feature names\n",
      "  warnings.warn(\n"
     ]
    }
   ],
   "source": [
    "b_SVC_prediction = SVC_Model.predict(a1_test)\n",
    "\n",
    "# Calculating accuracy score\n",
    "svc_accuracy = accuracy_score(b1_test, b_SVC_prediction)\n",
    "\n",
    "# Calculating F1 score\n",
    "svc_f1 = f1_score(b1_test, b_SVC_prediction)\n",
    "\n",
    "svc_probs = SVC_Model.decision_function(a1_test)\n",
    "svc_auc = roc_auc_score(b1_test, svc_probs)\n",
    "svc_fpr, svc_tpr, svc_thresholds = roc_curve(b1_test, svc_probs)"
   ]
  },
  {
   "cell_type": "markdown",
   "id": "7ebe8ce3",
   "metadata": {},
   "source": [
    "#### _RESULTS FOR LOGISTIC REGRESSION MODEL_ : "
   ]
  },
  {
   "cell_type": "code",
   "execution_count": 27,
   "id": "2216ce5d",
   "metadata": {},
   "outputs": [
    {
     "name": "stdout",
     "output_type": "stream",
     "text": [
      "Accuracy: 0.6785\n",
      "F1 Score: 0.2229\n",
      "AUC-ROC Score: 0.8199\n"
     ]
    }
   ],
   "source": [
    "print(\"Accuracy: {:.4f}\".format(Logistic_regression_accuracy))\n",
    "print(\"F1 Score: {:.4f}\".format(Logistic_regression_f1))\n",
    "print(\"AUC-ROC Score: {:.4f}\".format(Logistic_regression_auc))"
   ]
  },
  {
   "cell_type": "markdown",
   "id": "40ea27ca",
   "metadata": {},
   "source": [
    "#### _RESULTS FOR NAIVE BAYES MODEL_ : "
   ]
  },
  {
   "cell_type": "code",
   "execution_count": 28,
   "id": "31e7f814",
   "metadata": {},
   "outputs": [
    {
     "name": "stdout",
     "output_type": "stream",
     "text": [
      "Accuracy: 0.9598\n",
      "F1 Score: 0.6600\n",
      "AUC-ROC Score: 0.8958\n"
     ]
    }
   ],
   "source": [
    "print(\"Accuracy: {:.4f}\".format(naive_bayes_accuracy))\n",
    "print(\"F1 Score: {:.4f}\".format(naive_bayes_f1))\n",
    "print(\"AUC-ROC Score: {:.4f}\".format(Naive_Bayes_auc))"
   ]
  },
  {
   "cell_type": "markdown",
   "id": "c5f3d481",
   "metadata": {},
   "source": [
    "#### _RESULTS FOR K NEAREST NEIGHBOR CLASSIFIER MODEL_ :"
   ]
  },
  {
   "cell_type": "code",
   "execution_count": 29,
   "id": "21d616ad",
   "metadata": {},
   "outputs": [
    {
     "name": "stdout",
     "output_type": "stream",
     "text": [
      "Accuracy: 0.9764\n",
      "F1 Score: 0.7297\n",
      "AUC-ROC Score: 0.9326\n"
     ]
    }
   ],
   "source": [
    "print(\"Accuracy: {:.4f}\".format(knn_accuracy))\n",
    "print(\"F1 Score: {:.4f}\".format(knn_f1))\n",
    "print(\"AUC-ROC Score: {:.4f}\".format(knn_auc))"
   ]
  },
  {
   "cell_type": "markdown",
   "id": "bbe76ddd",
   "metadata": {},
   "source": [
    "#### _RESULTS FOR SUPPORT VECTOR MACHINE CLASSIFER MODEL_ :"
   ]
  },
  {
   "cell_type": "code",
   "execution_count": 30,
   "id": "9788d8ab",
   "metadata": {},
   "outputs": [
    {
     "name": "stdout",
     "output_type": "stream",
     "text": [
      "Accuracy: 0.8310\n",
      "F1 Score: 0.3349\n",
      "AUC-ROC Score: 0.9342\n"
     ]
    }
   ],
   "source": [
    "print(\"Accuracy: {:.4f}\".format(svc_accuracy))\n",
    "print(\"F1 Score: {:.4f}\".format(svc_f1))\n",
    "print(\"AUC-ROC Score: {:.4f}\".format(svc_auc))"
   ]
  },
  {
   "cell_type": "markdown",
   "id": "9ef75414",
   "metadata": {},
   "source": [
    "### *- The above comparison of all the models reveals that the accuracy of the KNN Classifier, Naive Bayes model differ very little from one another. The KNN Classifier model, however, has a little advantage over the others with a 97.64% accuracy rate.* \n",
    "\n",
    "### *- The F1 score was determined for each model, and upon comparison, the KNN Classifier and Naive Bayes models stand out as having high F1 scores. However, the KNN Classifier model has the advantage because its F1 score is the highest, coming in at 72.97%.* \n",
    "\n",
    "### *- The greatest AUC-ROC Score, 93.42%, is for Support Vector Machine. However, after comparing the performance parameters of these models we can conclude that the KNN Classifier model is well suited for this dataset.*"
   ]
  },
  {
   "cell_type": "markdown",
   "id": "fadbf2a8",
   "metadata": {},
   "source": [
    "## _STEP 3.5_"
   ]
  },
  {
   "cell_type": "code",
   "execution_count": 31,
   "id": "f518d9c9",
   "metadata": {},
   "outputs": [
    {
     "data": {
      "image/png": "[encoded data removed]",
      "text/plain": [
       "<Figure size 432x288 with 1 Axes>"
      ]
     },
     "metadata": {
      "needs_background": "light"
     },
     "output_type": "display_data"
    }
   ],
   "source": [
    "import matplotlib.pyplot as plt\n",
    "\n",
    "\n",
    "plt.plot(Logistic_regression_fpr, Logistic_regression_tpr, label='Logistic Regression')\n",
    "plt.plot(Naive_Bayes_fpr, Naive_Bayes_tpr, label='Naive Bayes')\n",
    "plt.plot(knn_fpr, knn_tpr, label='K Nearest Neighbor')\n",
    "plt.plot(svc_fpr, svc_tpr, label='Support Vector Machine')\n",
    "plt.xlabel('False Positive Rate')\n",
    "plt.ylabel('True Positive Rate')\n",
    "plt.title('ROC Curve')\n",
    "plt.legend()\n",
    "plt.show()"
   ]
  },
  {
   "cell_type": "code",
   "execution_count": 32,
   "id": "6f4d05f4",
   "metadata": {},
   "outputs": [
    {
     "data": {
      "image/png": "[encoded data removed]",
      "text/plain": [
       "<Figure size 576x432 with 1 Axes>"
      ]
     },
     "metadata": {
      "needs_background": "light"
     },
     "output_type": "display_data"
    }
   ],
   "source": [
    "plt.figure(figsize=(8, 6))\n",
    "plt.plot(Logistic_regression_fpr, Logistic_regression_tpr, label=f'Logistic Regression (AUC = {Logistic_regression_auc:.2f})')\n",
    "plt.plot(Naive_Bayes_fpr, Naive_Bayes_tpr, label=f'Naive Bayes (AUC = {Naive_Bayes_auc:.2f})')\n",
    "plt.plot(knn_fpr, knn_tpr, label=f'KNN (AUC = {knn_auc:.2f})')\n",
    "plt.plot(svc_fpr, svc_tpr, label=f'SVM (AUC = {svc_auc:.2f})')\n",
    "plt.plot([0, 1], [0, 1], 'k--', label='Random Guess')\n",
    "plt.xlabel('False Positive Rate')\n",
    "plt.ylabel('True Positive Rate')\n",
    "plt.title('AUC-ROC Curve for Different Models')\n",
    "plt.legend()\n",
    "plt.show()"
   ]
  },
  {
   "cell_type": "code",
   "execution_count": null,
   "id": "37f9aa64",
   "metadata": {},
   "outputs": [],
   "source": []
  },
  {
   "cell_type": "code",
   "execution_count": null,
   "id": "5f8c7f78",
   "metadata": {},
   "outputs": [],
   "source": []
  },
  {
   "cell_type": "code",
   "execution_count": null,
   "id": "955ec1c9",
   "metadata": {},
   "outputs": [],
   "source": []
  }
 ],
 "metadata": {
  "kernelspec": {
   "display_name": "Python 3 (ipykernel)",
   "language": "python",
   "name": "python3"
  },
  "language_info": {
   "codemirror_mode": {
    "name": "ipython",
    "version": 3
   },
   "file_extension": ".py",
   "mimetype": "text/x-python",
   "name": "python",
   "nbconvert_exporter": "python",
   "pygments_lexer": "ipython3",
   "version": "3.9.7"
  }
 },
 "nbformat": 4,
 "nbformat_minor": 5
}
